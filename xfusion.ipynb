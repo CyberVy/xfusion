{
  "cells": [
    {
      "cell_type": "code",
      "execution_count": null,
      "metadata": {
        "id": "fFwKJXL0Fe-w",
        "collapsed": true
      },
      "outputs": [],
      "source": [
        "!pip uninstall -qy xfusion\n",
        "!pip install -q git+https://github.com/CyberVy/diffusers.git\n",
        "!pip install -q git+https://github.com/CyberVy/xfusion.git"
      ]
    },
    {
      "cell_type": "code",
      "execution_count": null,
      "metadata": {
        "id": "Xew4qr6NFqVG"
      },
      "outputs": [],
      "source": [
        "from xfusion.enhancement import load_enhancer\n",
        "from xfusion.utils import delete\n",
        "import torch\n",
        "import sys,os,gc\n",
        "\n",
        "if \"pipeline\" not in dir():\n",
        "    model = \"https://civitai.com/api/download/models/646523?type=Model&format=SafeTensor&size=pruned&fp=fp16\"\n",
        "    pipeline = load_enhancer(model).to(\"cuda\")\n",
        "    server = pipeline.load_ui(debug=True,inline=False,_globals=globals())"
      ]
    }
  ],
  "metadata": {
    "accelerator": "GPU",
    "colab": {
      "gpuType": "T4",
      "provenance": []
    },
    "kernelspec": {
      "display_name": "Python 3",
      "name": "python3"
    },
    "language_info": {
      "name": "python"
    }
  },
  "nbformat": 4,
  "nbformat_minor": 0
}